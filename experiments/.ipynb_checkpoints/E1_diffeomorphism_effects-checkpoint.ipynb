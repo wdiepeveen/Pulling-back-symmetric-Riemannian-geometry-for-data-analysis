{
 "cells": [
  {
   "cell_type": "code",
   "execution_count": 1,
   "metadata": {},
   "outputs": [
    {
     "data": {
      "text/plain": [
       "<torch._C.Generator at 0x7fcedb4ce390>"
      ]
     },
     "execution_count": 1,
     "metadata": {},
     "output_type": "execute_result"
    }
   ],
   "source": [
    "import os\n",
    "import torch\n",
    "from torch.utils.data import DataLoader\n",
    "import matplotlib.pyplot as plt\n",
    "from datetime import datetime\n",
    "\n",
    "from data.toy_data.hyperbolic import hyperbolic\n",
    "from data.toy_data.circle import circle\n",
    "from data.toy_data.spiral import twospirals\n",
    "\n",
    "from src.diffeomorphisms.iresnet_euclidean_product import i_ResNet_into_Euclidean\n",
    "from src.manifolds.pull_back_manifold import PullBackManifold\n",
    "from src.riemannian_autoencoder import Curvature_Corrected_Riemannian_Autoencoder\n",
    "from src.riemannian_autoencoder.low_rank_approximation.naive_tsvd import naive_low_rank_approximation\n",
    "from src.utils.isomap import make_adjacency, get_path, isomap\n",
    "from src.utils.neural_network.distance_data_set import DistanceData\n",
    "\n",
    "# set seed\n",
    "torch.manual_seed(31)"
   ]
  },
  {
   "cell_type": "code",
   "execution_count": 2,
   "metadata": {},
   "outputs": [],
   "source": [
    "# global parameters\n",
    "num_data = 51\n",
    "\n",
    "batch_size = 32"
   ]
  },
  {
   "cell_type": "markdown",
   "metadata": {},
   "source": [
    "Spiral data"
   ]
  },
  {
   "cell_type": "code",
   "execution_count": 3,
   "metadata": {},
   "outputs": [
    {
     "data": {
      "image/png": "[encoded data removed]",
      "text/plain": [
       "<Figure size 640x480 with 1 Axes>"
      ]
     },
     "metadata": {},
     "output_type": "display_data"
    }
   ],
   "source": [
    "s_data = twospirals(int((num_data-1)/2), noise=0.1)\n",
    "\n",
    "plt.title('data set')\n",
    "plt.plot(s_data[:,0], s_data[:,1], '.')\n",
    "plt.show()"
   ]
  },
  {
   "cell_type": "code",
   "execution_count": 4,
   "metadata": {},
   "outputs": [],
   "source": [
    "# Construct similarity graph and compute geodesic distances\n",
    "cut_off = 1.5 # make sure to have full data path\n",
    "pairwise_distances, predecessors = make_adjacency(s_data.T,eps=cut_off, return_predecessors=True)\n",
    "pairwise_distances = torch.from_numpy(pairwise_distances)\n",
    "predecessors = torch.from_numpy(predecessors)"
   ]
  },
  {
   "cell_type": "code",
   "execution_count": 5,
   "metadata": {},
   "outputs": [
    {
     "data": {
      "image/png": "[encoded data removed]",
      "text/plain": [
       "<Figure size 640x480 with 1 Axes>"
      ]
     },
     "metadata": {},
     "output_type": "display_data"
    }
   ],
   "source": [
    "# construct geodesics\n",
    "path = get_path(predecessors, pairwise_distances, int((num_data-1)/2-1), int(num_data-2))\n",
    "# plot geodesic\n",
    "plt.title('data set')\n",
    "plt.plot(s_data[:,0], s_data[:,1], '.')\n",
    "plt.plot(s_data[path,0], s_data[path,1], '.')\n",
    "plt.show()"
   ]
  },
  {
   "cell_type": "code",
   "execution_count": 6,
   "metadata": {},
   "outputs": [
    {
     "name": "stdout",
     "output_type": "stream",
     "text": [
      "2550\n"
     ]
    }
   ],
   "source": [
    "dataset = DistanceData(s_data, pairwise_distances)\n",
    "dataloader = DataLoader(dataset, batch_size=batch_size, shuffle=True)\n",
    "print(len(dataset))"
   ]
  },
  {
   "cell_type": "code",
   "execution_count": 7,
   "metadata": {},
   "outputs": [],
   "source": [
    "# construct pull-back manifold\n",
    "s_offset = torch.tensor([0.,0.])\n",
    "s_orthogonal = torch.eye(2,2) # TODO construct this\n",
    "\n",
    "s_nBlocks = 100 \n",
    "s_max_iter_inverse = 100\n",
    "s_int_features = 10 \n",
    "s_coeff = 0.8 \n",
    "s_n_power_iter = 10 \n",
    "\n",
    "s_diffeo = i_ResNet_into_Euclidean([1,1], s_offset, s_orthogonal, \n",
    "                              nBlocks=s_nBlocks, \n",
    "                              max_iter_inverse=s_max_iter_inverse, \n",
    "                              int_features=s_int_features, \n",
    "                              coeff=s_coeff, \n",
    "                              n_power_iter=s_n_power_iter) \n",
    "s_M = PullBackManifold(s_diffeo)"
   ]
  },
  {
   "cell_type": "markdown",
   "metadata": {},
   "source": [
    "Learn diffeomorphism"
   ]
  },
  {
   "cell_type": "code",
   "execution_count": 8,
   "metadata": {},
   "outputs": [
    {
     "name": "stderr",
     "output_type": "stream",
     "text": [
      "/Users/wdiepeveen/Documents/PhD/Projects/10 - Learning Riemannian Geometry/src/article/Pulling-back-symmetric-Riemannian-geometry-for-data-analysis/src/diffeomorphisms/iresnet_euclidean_product.py:63: UserWarning: The use of `x.T` on tensors of dimension other than 2 to reverse their shape is deprecated and it will throw an error in a future release. Consider `x.mT` to transpose batches of matrices or `x.permute(*torch.arange(x.ndim - 1, -1, -1))` to reverse the dimensions of a tensor. (Triggered internally at /Users/runner/work/pytorch/pytorch/pytorch/aten/src/ATen/native/TensorShape.cpp:3641.)\n",
      "  output = torch.zeros(X.shape).T\n"
     ]
    },
    {
     "name": "stdout",
     "output_type": "stream",
     "text": [
      "epoch[1/10] mini-batch[20/80] avg_pwd_loss 64.584729 avg_subspace_loss 33.846103\n",
      "epoch[1/10] mini-batch[40/80] avg_pwd_loss 60.073278 avg_subspace_loss 9.321360\n",
      "epoch[1/10] mini-batch[60/80] avg_pwd_loss 46.908700 avg_subspace_loss 5.159198\n",
      "epoch[1/10] mini-batch[80/80] avg_pwd_loss 39.721266 avg_subspace_loss 4.339272\n",
      "epoch[2/10] mini-batch[20/80] avg_pwd_loss 22.349708 avg_subspace_loss 4.458791\n",
      "epoch[2/10] mini-batch[40/80] avg_pwd_loss 14.853359 avg_subspace_loss 2.497648\n",
      "epoch[2/10] mini-batch[60/80] avg_pwd_loss 11.682548 avg_subspace_loss 1.472629\n",
      "epoch[2/10] mini-batch[80/80] avg_pwd_loss 9.202056 avg_subspace_loss 0.915097\n",
      "epoch[3/10] mini-batch[20/80] avg_pwd_loss 7.258711 avg_subspace_loss 0.785075\n",
      "epoch[3/10] mini-batch[40/80] avg_pwd_loss 6.485973 avg_subspace_loss 0.686176\n",
      "epoch[3/10] mini-batch[60/80] avg_pwd_loss 5.422140 avg_subspace_loss 0.607623\n",
      "epoch[3/10] mini-batch[80/80] avg_pwd_loss 4.496226 avg_subspace_loss 0.874451\n",
      "epoch[4/10] mini-batch[20/80] avg_pwd_loss 3.074802 avg_subspace_loss 0.739279\n",
      "epoch[4/10] mini-batch[40/80] avg_pwd_loss 2.394538 avg_subspace_loss 0.769250\n",
      "epoch[4/10] mini-batch[60/80] avg_pwd_loss 1.592428 avg_subspace_loss 0.686317\n",
      "epoch[4/10] mini-batch[80/80] avg_pwd_loss 1.262941 avg_subspace_loss 0.604193\n",
      "epoch[5/10] mini-batch[20/80] avg_pwd_loss 0.939849 avg_subspace_loss 0.560776\n",
      "epoch[5/10] mini-batch[40/80] avg_pwd_loss 0.751561 avg_subspace_loss 0.503867\n",
      "epoch[5/10] mini-batch[60/80] avg_pwd_loss 0.613896 avg_subspace_loss 0.486886\n",
      "epoch[5/10] mini-batch[80/80] avg_pwd_loss 0.546457 avg_subspace_loss 0.464480\n",
      "epoch[6/10] mini-batch[20/80] avg_pwd_loss 0.514216 avg_subspace_loss 0.420986\n",
      "epoch[6/10] mini-batch[40/80] avg_pwd_loss 0.443782 avg_subspace_loss 0.357484\n",
      "epoch[6/10] mini-batch[60/80] avg_pwd_loss 0.480010 avg_subspace_loss 0.355849\n",
      "epoch[6/10] mini-batch[80/80] avg_pwd_loss 0.442252 avg_subspace_loss 0.306449\n",
      "epoch[7/10] mini-batch[20/80] avg_pwd_loss 0.321353 avg_subspace_loss 0.325509\n",
      "epoch[7/10] mini-batch[40/80] avg_pwd_loss 0.309965 avg_subspace_loss 0.304244\n",
      "epoch[7/10] mini-batch[60/80] avg_pwd_loss 0.273571 avg_subspace_loss 0.255660\n",
      "epoch[7/10] mini-batch[80/80] avg_pwd_loss 0.260714 avg_subspace_loss 0.237960\n",
      "epoch[8/10] mini-batch[20/80] avg_pwd_loss 0.211199 avg_subspace_loss 0.219674\n",
      "epoch[8/10] mini-batch[40/80] avg_pwd_loss 0.196520 avg_subspace_loss 0.198414\n",
      "epoch[8/10] mini-batch[60/80] avg_pwd_loss 0.176839 avg_subspace_loss 0.207069\n",
      "epoch[8/10] mini-batch[80/80] avg_pwd_loss 0.176572 avg_subspace_loss 0.235851\n",
      "epoch[9/10] mini-batch[20/80] avg_pwd_loss 0.146963 avg_subspace_loss 0.191725\n",
      "epoch[9/10] mini-batch[40/80] avg_pwd_loss 0.180436 avg_subspace_loss 0.190686\n",
      "epoch[9/10] mini-batch[60/80] avg_pwd_loss 0.162567 avg_subspace_loss 0.176839\n",
      "epoch[9/10] mini-batch[80/80] avg_pwd_loss 0.115606 avg_subspace_loss 0.175537\n",
      "epoch[10/10] mini-batch[20/80] avg_pwd_loss 0.092930 avg_subspace_loss 0.152115\n",
      "epoch[10/10] mini-batch[40/80] avg_pwd_loss 0.106545 avg_subspace_loss 0.170433\n",
      "epoch[10/10] mini-batch[60/80] avg_pwd_loss 0.079058 avg_subspace_loss 0.145366\n",
      "epoch[10/10] mini-batch[80/80] avg_pwd_loss 0.056287 avg_subspace_loss 0.144840\n"
     ]
    }
   ],
   "source": [
    "# Train\n",
    "optimizer = torch.optim.Adam(s_M.diffeo.phi.parameters(), lr=1e-3, betas=(0.9,0.99))\n",
    "\n",
    "# main training loop\n",
    "n_epochs = 10\n",
    "num_minibatches = 20 #display the loss after these many mini-batches\n",
    "\n",
    "for epoch in range(n_epochs):\n",
    "    total_pairwise_distance_loss = 0.0\n",
    "    total_subspace_loss = 0.0\n",
    "    total_isometry_loss = 0.0\n",
    "      \n",
    "    for idx, (data_i, data_j, pairwise_distance_ij) in enumerate(dataloader):\n",
    "      \n",
    "        x_i = data_i\n",
    "        x_j = data_j\n",
    "        d_ij = pairwise_distance_ij\n",
    "        \n",
    "        phi_i = s_M.diffeo.forward(x_i)\n",
    "        phi_j = s_M.diffeo.forward(x_j)\n",
    "\n",
    "        # compute metric tensor at points\n",
    "        g_i = s_M.metric_tensor_in_std_basis(x_i)\n",
    "        g_j = s_M.metric_tensor_in_std_basis(x_j)\n",
    "        \n",
    "        # optimize the net\n",
    "        d_M_ij = s_M.distance(x_i[:,None,:], x_j[:,None,:]).squeeze()\n",
    "        pairwise_distance_loss = torch.mean((d_M_ij - d_ij)**2) # (\\|phi_i - phi_j\\| - d_ij)^2\n",
    "        \n",
    "        # supervised loss\n",
    "        subspace_loss_i = torch.mean(phi_i[1].norm(1,-1))\n",
    "        subspace_loss_j = torch.mean(phi_j[1].norm(1,-1))\n",
    "        subspace_loss = 10 * (subspace_loss_i + subspace_loss_j)/2\n",
    "    \n",
    "        # isomrtry loss\n",
    "        isometry_loss_i = torch.mean(torch.sum((g_i - torch.eye(2)[None])**2, (1,2)))\n",
    "        isometry_loss_j = torch.mean(torch.sum((g_j - torch.eye(2)[None])**2, (1,2)))\n",
    "        isometry_loss = 1/100 * (isometry_loss_i + isometry_loss_j)/2\n",
    "        \n",
    "        loss = pairwise_distance_loss + subspace_loss + isometry_loss\n",
    "        \n",
    "        # update networks\n",
    "        optimizer.zero_grad()\n",
    "        loss.backward()\n",
    "        optimizer.step()\n",
    "\n",
    "        total_pairwise_distance_loss += pairwise_distance_loss.item()\n",
    "        total_subspace_loss += subspace_loss.item()\n",
    "        total_isometry_loss += isometry_loss.item()\n",
    "\n",
    "        if(idx % num_minibatches == num_minibatches-1):\n",
    "            avg_pairwise_distance_loss = total_pairwise_distance_loss/num_minibatches\n",
    "            avg_subspace_loss = total_subspace_loss/num_minibatches\n",
    "            avg_isometry_loss = total_isometry_loss/num_minibatches\n",
    "            \n",
    "            print(\"epoch[{}/{}] mini-batch[{}/{}] avg_pwd_loss {:.6f} avg_subspace_loss {:.6f} avg_isometry_loss {:.6f}\"\\\n",
    "                  .format(epoch+1, n_epochs, idx+1, len(dataloader), avg_pairwise_distance_loss, avg_subspace_loss, avg_isometry_loss))\n",
    "            total_pairwise_distance_loss = 0.0\n",
    "            total_subspace_loss = 0.0\n",
    "            total_isometry_loss = 0.0"
   ]
  },
  {
   "cell_type": "code",
   "execution_count": 10,
   "metadata": {},
   "outputs": [],
   "source": [
    "#save the model\n",
    "trained_networks_path = os.path.join(\"models\", \"spiral\")\n",
    "os.makedirs(trained_networks_path, exist_ok=True)\n",
    "\n",
    "now = datetime.now()\n",
    "date_time = now.strftime(\"%Y_%m_%d_%H_%M_%S\")\n",
    "s_phi_path = os.path.join(trained_networks_path, \"i_resnet_euclidean_product_{}_blocks_{}_epochs_{}.pt\".format(s_nBlocks, n_epochs, date_time))\n",
    "\n",
    "# save z, O and phi TODO\n",
    "torch.save(s_M.diffeo.phi.state_dict(), s_phi_path) "
   ]
  },
  {
   "cell_type": "markdown",
   "metadata": {},
   "source": [
    "Evaluate learned geometry"
   ]
  },
  {
   "cell_type": "code",
   "execution_count": 10,
   "metadata": {},
   "outputs": [],
   "source": [
    "# load diffeomorphism\n",
    "if True:\n",
    "    trained_networks_path = os.path.join(\"models\", \"spiral\")\n",
    "    s_phi_path = os.path.join(trained_networks_path, \"i_resnet_euclidean_product_100_blocks_10_epochs_2024_02_10_10_39_06.pt\")\n",
    "    \n",
    "    s_diffeo = i_ResNet_into_Euclidean([1,1], s_offset, s_orthogonal, \n",
    "                              nBlocks=s_nBlocks, \n",
    "                              max_iter_inverse=s_max_iter_inverse, \n",
    "                              int_features=s_int_features, \n",
    "                              coeff=s_coeff, \n",
    "                              n_power_iter=s_n_power_iter) \n",
    "    s_diffeo.phi.load_state_dict(torch.load(s_phi_path))\n",
    "    s_M = PullBackManifold(s_diffeo)"
   ]
  },
  {
   "cell_type": "code",
   "execution_count": 11,
   "metadata": {},
   "outputs": [],
   "source": [
    "# choose special points\n",
    "s_z1 = s_data[path,:][0][None]\n",
    "s_z2 = s_data[path,:][-1][None]\n",
    "s_z3 = torch.tensor([0., 0.])[None]\n",
    "s_z4 = s_data[20,:][None]"
   ]
  },
  {
   "cell_type": "code",
   "execution_count": 12,
   "metadata": {},
   "outputs": [],
   "source": [
    "# compute geodesics\n",
    "t = torch.linspace(0,1,100)\n",
    "s_gamma_12_t =  s_M.geodesic(s_z1, s_z2, t)\n",
    "s_gamma_13_t =  s_M.geodesic(s_z1, s_z3, t)"
   ]
  },
  {
   "cell_type": "code",
   "execution_count": 13,
   "metadata": {},
   "outputs": [
    {
     "data": {
      "image/png": "[encoded data removed]",
      "text/plain": [
       "<Figure size 640x480 with 1 Axes>"
      ]
     },
     "metadata": {},
     "output_type": "display_data"
    }
   ],
   "source": [
    "# plot geodesics\n",
    "plt.plot(s_data[:,0], s_data[:,1], '.')\n",
    "plt.plot(s_gamma_12_t.squeeze().detach().numpy()[:,0], s_gamma_12_t.squeeze().detach().numpy()[:,1])\n",
    "plt.plot(s_gamma_13_t.squeeze().detach().numpy()[:,0], s_gamma_13_t.squeeze().detach().numpy()[:,1])\n",
    "plt.show()"
   ]
  },
  {
   "cell_type": "code",
   "execution_count": 15,
   "metadata": {},
   "outputs": [
    {
     "name": "stderr",
     "output_type": "stream",
     "text": [
      "/Users/wdiepeveen/Documents/PhD/Projects/10 - Learning Riemannian Geometry/src/article/Pulling-back-symmetric-Riemannian-geometry-for-data-analysis/src/diffeomorphisms/iresnet_euclidean_product.py:34: UserWarning: The use of `x.T` on tensors of dimension other than 2 to reverse their shape is deprecated and it will throw an error in a future release. Consider `x.mT` to transpose batches of matrices or `x.permute(*torch.arange(x.ndim - 1, -1, -1))` to reverse the dimensions of a tensor. (Triggered internally at /Users/runner/work/pytorch/pytorch/pytorch/aten/src/ATen/native/TensorShape.cpp:3641.)\n",
      "  return [fwd.T.split([self.d0, self.d1])[0].T, fwd.T.split([self.d0, self.d1])[1].T]\n"
     ]
    },
    {
     "ename": "IndexError",
     "evalue": "index 1 is out of bounds for dimension 0 with size 1",
     "output_type": "error",
     "traceback": [
      "\u001b[0;31m---------------------------------------------------------------------------\u001b[0m",
      "\u001b[0;31mIndexError\u001b[0m                                Traceback (most recent call last)",
      "Cell \u001b[0;32mIn[15], line 2\u001b[0m\n\u001b[1;32m      1\u001b[0m \u001b[38;5;66;03m# compute barycentre\u001b[39;00m\n\u001b[0;32m----> 2\u001b[0m s_barycentre \u001b[38;5;241m=\u001b[39m \u001b[43ms_M\u001b[49m\u001b[38;5;241;43m.\u001b[39;49m\u001b[43mbarycentre\u001b[49m\u001b[43m(\u001b[49m\u001b[43ms_data\u001b[49m\u001b[43m[\u001b[49m\u001b[38;5;28;43;01mNone\u001b[39;49;00m\u001b[43m]\u001b[49m\u001b[43m)\u001b[49m\n",
      "File \u001b[0;32m~/Documents/PhD/Projects/10 - Learning Riemannian Geometry/src/article/Pulling-back-symmetric-Riemannian-geometry-for-data-analysis/src/manifolds/__init__.py:19\u001b[0m, in \u001b[0;36mManifold.barycentre\u001b[0;34m(self, x, tol, max_iter)\u001b[0m\n\u001b[1;32m     17\u001b[0m y \u001b[38;5;241m=\u001b[39m x[:,\u001b[38;5;241m0\u001b[39m]\n\u001b[1;32m     18\u001b[0m \u001b[38;5;28;01mwhile\u001b[39;00m k \u001b[38;5;241m<\u001b[39m\u001b[38;5;241m=\u001b[39m max_iter \u001b[38;5;129;01mand\u001b[39;00m rel_error \u001b[38;5;241m>\u001b[39m\u001b[38;5;241m=\u001b[39m tol:\n\u001b[0;32m---> 19\u001b[0m     y \u001b[38;5;241m=\u001b[39m \u001b[38;5;28mself\u001b[39m\u001b[38;5;241m.\u001b[39mexp(y, torch\u001b[38;5;241m.\u001b[39mmean(\u001b[38;5;28;43mself\u001b[39;49m\u001b[38;5;241;43m.\u001b[39;49m\u001b[43mlog\u001b[49m\u001b[43m(\u001b[49m\u001b[43my\u001b[49m\u001b[43m,\u001b[49m\u001b[43m \u001b[49m\u001b[43mx\u001b[49m\u001b[43m)\u001b[49m,\u001b[38;5;241m1\u001b[39m)\u001b[38;5;241m.\u001b[39munsqueeze(\u001b[38;5;241m-\u001b[39m\u001b[38;5;241m2\u001b[39m))\u001b[38;5;241m.\u001b[39msqueeze(\u001b[38;5;241m-\u001b[39m\u001b[38;5;241m2\u001b[39m)\n\u001b[1;32m     20\u001b[0m     k\u001b[38;5;241m+\u001b[39m\u001b[38;5;241m=\u001b[39m\u001b[38;5;241m1\u001b[39m\n\u001b[1;32m     22\u001b[0m \u001b[38;5;28;01mreturn\u001b[39;00m y\n",
      "File \u001b[0;32m~/Documents/PhD/Projects/10 - Learning Riemannian Geometry/src/article/Pulling-back-symmetric-Riemannian-geometry-for-data-analysis/src/manifolds/pull_back_manifold.py:26\u001b[0m, in \u001b[0;36mPullBackManifold.log\u001b[0;34m(self, p, q)\u001b[0m\n\u001b[1;32m     25\u001b[0m \u001b[38;5;28;01mdef\u001b[39;00m \u001b[38;5;21mlog\u001b[39m(\u001b[38;5;28mself\u001b[39m, p, q):\n\u001b[0;32m---> 26\u001b[0m     \u001b[38;5;28;01mreturn\u001b[39;00m \u001b[38;5;28;43mself\u001b[39;49m\u001b[38;5;241;43m.\u001b[39;49m\u001b[43mdiffeo\u001b[49m\u001b[38;5;241;43m.\u001b[39;49m\u001b[43mdifferential_inverse\u001b[49m\u001b[43m(\u001b[49m\u001b[38;5;28;43mself\u001b[39;49m\u001b[38;5;241;43m.\u001b[39;49m\u001b[43mdiffeo\u001b[49m\u001b[38;5;241;43m.\u001b[39;49m\u001b[43mforward\u001b[49m\u001b[43m(\u001b[49m\u001b[43mp\u001b[49m\u001b[43m)\u001b[49m\u001b[43m,\u001b[49m\n\u001b[1;32m     27\u001b[0m \u001b[43m                                            \u001b[49m\u001b[38;5;28;43mself\u001b[39;49m\u001b[38;5;241;43m.\u001b[39;49m\u001b[43mmanifold\u001b[49m\u001b[38;5;241;43m.\u001b[39;49m\u001b[43mlog\u001b[49m\u001b[43m(\u001b[49m\u001b[38;5;28;43mself\u001b[39;49m\u001b[38;5;241;43m.\u001b[39;49m\u001b[43mdiffeo\u001b[49m\u001b[38;5;241;43m.\u001b[39;49m\u001b[43mforward\u001b[49m\u001b[43m(\u001b[49m\u001b[43mp\u001b[49m\u001b[43m)\u001b[49m\u001b[43m,\u001b[49m\u001b[43m \u001b[49m\u001b[38;5;28;43mself\u001b[39;49m\u001b[38;5;241;43m.\u001b[39;49m\u001b[43mdiffeo\u001b[49m\u001b[38;5;241;43m.\u001b[39;49m\u001b[43mforward\u001b[49m\u001b[43m(\u001b[49m\u001b[43mq\u001b[49m\u001b[43m)\u001b[49m\u001b[43m)\u001b[49m\n\u001b[1;32m     28\u001b[0m \u001b[43m                                            \u001b[49m\u001b[43m)\u001b[49m\n",
      "File \u001b[0;32m~/Documents/PhD/Projects/10 - Learning Riemannian Geometry/src/article/Pulling-back-symmetric-Riemannian-geometry-for-data-analysis/src/diffeomorphisms/iresnet_euclidean_product.py:90\u001b[0m, in \u001b[0;36mi_ResNet_into_Euclidean.differential_inverse\u001b[0;34m(self, p, P)\u001b[0m\n\u001b[1;32m     88\u001b[0m tangent \u001b[38;5;241m=\u001b[39m tangents\u001b[38;5;241m.\u001b[39mT[:, l]\u001b[38;5;241m.\u001b[39mT\n\u001b[1;32m     89\u001b[0m dual_input \u001b[38;5;241m=\u001b[39m fwAD\u001b[38;5;241m.\u001b[39mmake_dual(primal, tangent)\n\u001b[0;32m---> 90\u001b[0m dual_output \u001b[38;5;241m=\u001b[39m \u001b[38;5;28;43mself\u001b[39;49m\u001b[38;5;241;43m.\u001b[39;49m\u001b[43minverse\u001b[49m\u001b[43m(\u001b[49m\u001b[43mdual_input\u001b[49m\u001b[43m)\u001b[49m\n\u001b[1;32m     91\u001b[0m differential \u001b[38;5;241m=\u001b[39m fwAD\u001b[38;5;241m.\u001b[39munpack_dual(dual_output)\u001b[38;5;241m.\u001b[39mtangent\n\u001b[1;32m     92\u001b[0m output[:, l] \u001b[38;5;241m=\u001b[39m differential\u001b[38;5;241m.\u001b[39mT\n",
      "File \u001b[0;32m~/Documents/PhD/Projects/10 - Learning Riemannian Geometry/src/article/Pulling-back-symmetric-Riemannian-geometry-for-data-analysis/src/diffeomorphisms/iresnet_euclidean_product.py:43\u001b[0m, in \u001b[0;36mi_ResNet_into_Euclidean.inverse\u001b[0;34m(self, p)\u001b[0m\n\u001b[1;32m     38\u001b[0m \u001b[38;5;28;01mdef\u001b[39;00m \u001b[38;5;21minverse\u001b[39m(\u001b[38;5;28mself\u001b[39m, p):\n\u001b[1;32m     39\u001b[0m \u001b[38;5;250m    \u001b[39m\u001b[38;5;124;03m\"\"\"\u001b[39;00m\n\u001b[1;32m     40\u001b[0m \u001b[38;5;124;03m    :param p: [N x d0, N x d1]\u001b[39;00m\n\u001b[1;32m     41\u001b[0m \u001b[38;5;124;03m    :return: N x d\u001b[39;00m\n\u001b[1;32m     42\u001b[0m \u001b[38;5;124;03m    \"\"\"\u001b[39;00m\n\u001b[0;32m---> 43\u001b[0m     \u001b[38;5;28;01mif\u001b[39;00m \u001b[38;5;28mlen\u001b[39m(p[\u001b[38;5;241m0\u001b[39m]\u001b[38;5;241m.\u001b[39mshape) \u001b[38;5;241m==\u001b[39m \u001b[38;5;28mlen\u001b[39m(\u001b[43mp\u001b[49m\u001b[43m[\u001b[49m\u001b[38;5;241;43m1\u001b[39;49m\u001b[43m]\u001b[49m\u001b[38;5;241m.\u001b[39mshape) \u001b[38;5;241m==\u001b[39m \u001b[38;5;241m2\u001b[39m:\n\u001b[1;32m     44\u001b[0m         inv \u001b[38;5;241m=\u001b[39m torch\u001b[38;5;241m.\u001b[39meinsum(\u001b[38;5;124m\"\u001b[39m\u001b[38;5;124mij,Nj->Ni\u001b[39m\u001b[38;5;124m\"\u001b[39m, \u001b[38;5;28mself\u001b[39m\u001b[38;5;241m.\u001b[39mO\u001b[38;5;241m.\u001b[39mT, \u001b[38;5;28mself\u001b[39m\u001b[38;5;241m.\u001b[39mphi\u001b[38;5;241m.\u001b[39minverse(torch\u001b[38;5;241m.\u001b[39mcat(p, \u001b[38;5;241m-\u001b[39m\u001b[38;5;241m1\u001b[39m), maxIter\u001b[38;5;241m=\u001b[39m\u001b[38;5;28mself\u001b[39m\u001b[38;5;241m.\u001b[39mmax_iter_inverse)) \u001b[38;5;241m+\u001b[39m \u001b[38;5;28mself\u001b[39m\u001b[38;5;241m.\u001b[39mz[\u001b[38;5;28;01mNone\u001b[39;00m]\n\u001b[1;32m     45\u001b[0m     \u001b[38;5;28;01melif\u001b[39;00m \u001b[38;5;28mlen\u001b[39m(p[\u001b[38;5;241m0\u001b[39m]\u001b[38;5;241m.\u001b[39mshape) \u001b[38;5;241m==\u001b[39m \u001b[38;5;28mlen\u001b[39m(p[\u001b[38;5;241m1\u001b[39m]\u001b[38;5;241m.\u001b[39mshape) \u001b[38;5;241m==\u001b[39m \u001b[38;5;241m3\u001b[39m:\n",
      "\u001b[0;31mIndexError\u001b[0m: index 1 is out of bounds for dimension 0 with size 1"
     ]
    }
   ],
   "source": [
    "# compute barycentre\n",
    "s_barycentre = s_M.barycentre(s_data[None])"
   ]
  },
  {
   "cell_type": "code",
   "execution_count": null,
   "metadata": {},
   "outputs": [],
   "source": [
    "# plot barycentre\n",
    "plt.plot(s_data[:,0], s_data[:,1], '.')\n",
    "plt.plot(s_barycentre[:,0].detach().numpy(), s_barycentre[:,1].detach().numpy(), '.')\n",
    "plt.show()"
   ]
  },
  {
   "cell_type": "code",
   "execution_count": null,
   "metadata": {},
   "outputs": [],
   "source": [
    "# compute logs to all data\n",
    "s_logs = s_M.log(s_barycentre, s_data[None])[0]"
   ]
  },
  {
   "cell_type": "code",
   "execution_count": null,
   "metadata": {},
   "outputs": [],
   "source": [
    "# plot logs\n",
    "plt.plot(s_logs.squeeze().detach().numpy()[:,0], s_logs.squeeze().detach().numpy()[:,1], '.')\n",
    "plt.axis('equal')\n",
    "plt.show()"
   ]
  },
  {
   "cell_type": "code",
   "execution_count": null,
   "metadata": {},
   "outputs": [],
   "source": [
    "# rank 1 approximation\n",
    "s_z = s_barycentre.squeeze()\n",
    "s_R_z, s_U = naive_low_rank_approximation(s_M, s_z, s_data, 1)\n",
    "s_w_z = s_R_z / s_M.norm(s_z[None], s_R_z[None])[:,None]\n",
    "print(s_w_z)\n",
    "print(s_U.shape)"
   ]
  },
  {
   "cell_type": "code",
   "execution_count": null,
   "metadata": {},
   "outputs": [],
   "source": [
    "# compute error\n",
    "s_logs_approx = torch.einsum(\"kN,kd->Nd\", s_U, s_R_z)\n",
    "\n",
    "s_tangent_space_error = torch.sum(s_M.norm(h_z[None], s_logs_approx[None] - s_logs[None])**2)\n",
    "print(s_tangent_space_error)\n",
    "\n",
    "s_manifold_error = torch.sum(s_M.distance(s_data[:,None], s_M.exp(h_z[None], s_logs_approx[None])[0][:,None])**2)\n",
    "print(s_manifold_error)"
   ]
  },
  {
   "cell_type": "code",
   "execution_count": null,
   "metadata": {},
   "outputs": [],
   "source": [
    "# construct CC-RAE\n",
    "s_rae_w_z = Curvature_Corrected_Riemannian_Autoencoder(s_M, s_z, s_w_z)"
   ]
  },
  {
   "cell_type": "code",
   "execution_count": null,
   "metadata": {},
   "outputs": [],
   "source": [
    "# project noisy data onto manifold with RAE\n",
    "noisy_s_data = twospirals(500, noise=0.5) \n",
    "projected_s_mesh = s_rae_w_z.project_on_manifold(noisy_s_data)"
   ]
  },
  {
   "cell_type": "code",
   "execution_count": null,
   "metadata": {},
   "outputs": [],
   "source": [
    "# plot results\n",
    "plt.plot(noisy_s_data[:,0], noisy_s_data[:,1], '.')\n",
    "plt.plot(projected_s_mesh.cpu().detach().numpy()[:,0], projected_s_mesh.cpu().detach().numpy()[:,1], '.')\n",
    "plt.show()"
   ]
  }
 ],
 "metadata": {
  "kernelspec": {
   "display_name": "Python 3 (ipykernel)",
   "language": "python",
   "name": "python3"
  },
  "language_info": {
   "codemirror_mode": {
    "name": "ipython",
    "version": 3
   },
   "file_extension": ".py",
   "mimetype": "text/x-python",
   "name": "python",
   "nbconvert_exporter": "python",
   "pygments_lexer": "ipython3",
   "version": "3.8.18"
  }
 },
 "nbformat": 4,
 "nbformat_minor": 4
}
