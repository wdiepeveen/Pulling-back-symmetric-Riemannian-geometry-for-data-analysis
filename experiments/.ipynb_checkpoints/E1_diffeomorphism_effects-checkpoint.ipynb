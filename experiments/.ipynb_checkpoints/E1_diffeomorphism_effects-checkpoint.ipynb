{
 "cells": [
  {
   "cell_type": "code",
   "execution_count": 1,
   "metadata": {},
   "outputs": [
    {
     "data": {
      "text/plain": [
       "<torch._C.Generator at 0x7f80085be3b0>"
      ]
     },
     "execution_count": 1,
     "metadata": {},
     "output_type": "execute_result"
    }
   ],
   "source": [
    "import os\n",
    "import torch\n",
    "from torch.utils.data import DataLoader\n",
    "import matplotlib.pyplot as plt\n",
    "from datetime import datetime\n",
    "\n",
    "from data.toy_data.hyperbolic import hyperbolic\n",
    "from data.toy_data.circle import circle\n",
    "from data.toy_data.spiral import twospirals\n",
    "\n",
    "from src.diffeomorphisms.iresnet_euclidean_product import i_ResNet_into_Euclidean\n",
    "from src.manifolds.pull_back_manifold import PullBackManifold\n",
    "from src.riemannian_autoencoder import Curvature_Corrected_Riemannian_Autoencoder\n",
    "from src.riemannian_autoencoder.low_rank_approximation.naive_tsvd import naive_low_rank_approximation\n",
    "from src.utils.isomap import make_adjacency, get_path, isomap\n",
    "from src.utils.neural_network.distance_data_set import DistanceData\n",
    "\n",
    "# set seed\n",
    "torch.manual_seed(31)"
   ]
  },
  {
   "cell_type": "code",
   "execution_count": 2,
   "metadata": {},
   "outputs": [],
   "source": [
    "# global parameters\n",
    "num_data = 51\n",
    "\n",
    "batch_size = 32"
   ]
  },
  {
   "cell_type": "markdown",
   "metadata": {},
   "source": [
    "Spiral data"
   ]
  },
  {
   "cell_type": "code",
   "execution_count": 3,
   "metadata": {},
   "outputs": [
    {
     "data": {
      "image/png": "[encoded data removed]",
      "text/plain": [
       "<Figure size 640x480 with 1 Axes>"
      ]
     },
     "metadata": {},
     "output_type": "display_data"
    }
   ],
   "source": [
    "s_data = twospirals(int((num_data-1)/2), noise=0.5)\n",
    "\n",
    "plt.title('data set')\n",
    "plt.plot(s_data[:,0], s_data[:,1], '.')\n",
    "plt.show()"
   ]
  },
  {
   "cell_type": "code",
   "execution_count": 4,
   "metadata": {},
   "outputs": [],
   "source": [
    "# Construct similarity graph and compute geodesic distances\n",
    "cut_off = 1.5 # make sure to have full data path\n",
    "pairwise_distances, predecessors = make_adjacency(s_data.T,eps=cut_off, return_predecessors=True)\n",
    "pairwise_distances = torch.from_numpy(pairwise_distances)\n",
    "predecessors = torch.from_numpy(predecessors)"
   ]
  },
  {
   "cell_type": "code",
   "execution_count": 5,
   "metadata": {},
   "outputs": [
    {
     "data": {
      "image/png": "[encoded data removed]",
      "text/plain": [
       "<Figure size 640x480 with 1 Axes>"
      ]
     },
     "metadata": {},
     "output_type": "display_data"
    }
   ],
   "source": [
    "# construct geodesics\n",
    "path = get_path(predecessors, pairwise_distances, int((num_data-1)/2-1), int(num_data-2))\n",
    "# plot geodesic\n",
    "plt.title('data set')\n",
    "plt.plot(s_data[:,0], s_data[:,1], '.')\n",
    "plt.plot(s_data[path,0], s_data[path,1], '.')\n",
    "plt.show()"
   ]
  },
  {
   "cell_type": "code",
   "execution_count": 6,
   "metadata": {},
   "outputs": [
    {
     "name": "stdout",
     "output_type": "stream",
     "text": [
      "2550\n"
     ]
    }
   ],
   "source": [
    "dataset = DistanceData(s_data, pairwise_distances)\n",
    "dataloader = DataLoader(dataset, batch_size=batch_size, shuffle=True)\n",
    "print(len(dataset))"
   ]
  },
  {
   "cell_type": "code",
   "execution_count": 7,
   "metadata": {},
   "outputs": [
    {
     "name": "stdout",
     "output_type": "stream",
     "text": [
      "tensor([[1., 0.],\n",
      "        [0., 1.]])\n"
     ]
    }
   ],
   "source": [
    "# construct pull-back manifold\n",
    "s_offset = torch.tensor([0.,0.])\n",
    "s_orthogonal = torch.eye(2,2) # TODO construct this\n",
    "\n",
    "s_nBlocks = 100 \n",
    "s_max_iter_inverse = 100\n",
    "s_int_features = 10 \n",
    "s_coeff = 0.8 \n",
    "s_n_power_iter = 10 \n",
    "\n",
    "s_diffeo = i_ResNet_into_Euclidean([1,1], s_offset, s_orthogonal, \n",
    "                              nBlocks=s_nBlocks, \n",
    "                              max_iter_inverse=s_max_iter_inverse, \n",
    "                              int_features=s_int_features, \n",
    "                              coeff=s_coeff, \n",
    "                              n_power_iter=s_n_power_iter) \n",
    "s_M = PullBackManifold(s_diffeo)"
   ]
  },
  {
   "cell_type": "markdown",
   "metadata": {},
   "source": [
    "Learn diffeomorphism"
   ]
  },
  {
   "cell_type": "code",
   "execution_count": 8,
   "metadata": {},
   "outputs": [
    {
     "ename": "AssertionError",
     "evalue": "",
     "output_type": "error",
     "traceback": [
      "\u001b[0;31m---------------------------------------------------------------------------\u001b[0m",
      "\u001b[0;31mAssertionError\u001b[0m                            Traceback (most recent call last)",
      "Cell \u001b[0;32mIn[8], line 22\u001b[0m\n\u001b[1;32m     19\u001b[0m phi_j \u001b[38;5;241m=\u001b[39m s_M\u001b[38;5;241m.\u001b[39mdiffeo\u001b[38;5;241m.\u001b[39mforward(x_j)\n\u001b[1;32m     21\u001b[0m \u001b[38;5;66;03m# compute metric tensor at points\u001b[39;00m\n\u001b[0;32m---> 22\u001b[0m g_i \u001b[38;5;241m=\u001b[39m \u001b[43ms_M\u001b[49m\u001b[38;5;241;43m.\u001b[39;49m\u001b[43mmetric_tensor_in_std_basis\u001b[49m\u001b[43m(\u001b[49m\u001b[43mx_i\u001b[49m\u001b[43m)\u001b[49m\n\u001b[1;32m     23\u001b[0m g_j \u001b[38;5;241m=\u001b[39m s_M\u001b[38;5;241m.\u001b[39mmetric_tensor_in_std_basis(x_j)\n\u001b[1;32m     25\u001b[0m \u001b[38;5;66;03m# optimize the net\u001b[39;00m\n",
      "File \u001b[0;32m~/Documents/PhD/Projects/10 - Learning Riemannian Geometry/src/article/Pulling-back-symmetric-Riemannian-geometry-for-data-analysis/src/manifolds/pull_back_manifold.py:51\u001b[0m, in \u001b[0;36mPullBackManifold.metric_tensor_in_std_basis\u001b[0;34m(self, p)\u001b[0m\n\u001b[1;32m     45\u001b[0m \u001b[38;5;250m\u001b[39m\u001b[38;5;124;03m\"\"\"\u001b[39;00m\n\u001b[1;32m     46\u001b[0m \n\u001b[1;32m     47\u001b[0m \u001b[38;5;124;03m:param p: N x d\u001b[39;00m\n\u001b[1;32m     48\u001b[0m \u001b[38;5;124;03m:return: N x d x d\u001b[39;00m\n\u001b[1;32m     49\u001b[0m \u001b[38;5;124;03m\"\"\"\u001b[39;00m\n\u001b[1;32m     50\u001b[0m N \u001b[38;5;241m=\u001b[39m p\u001b[38;5;241m.\u001b[39mshape[\u001b[38;5;241m0\u001b[39m]\n\u001b[0;32m---> 51\u001b[0m \u001b[38;5;28;01mreturn\u001b[39;00m \u001b[38;5;28;43mself\u001b[39;49m\u001b[38;5;241;43m.\u001b[39;49m\u001b[43mmanifold\u001b[49m\u001b[38;5;241;43m.\u001b[39;49m\u001b[43minner\u001b[49m\u001b[43m(\u001b[49m\u001b[43mp\u001b[49m\u001b[43m,\u001b[49m\u001b[43m \u001b[49m\u001b[43mtorch\u001b[49m\u001b[38;5;241;43m.\u001b[39;49m\u001b[43meye\u001b[49m\u001b[43m(\u001b[49m\u001b[38;5;28;43mself\u001b[39;49m\u001b[38;5;241;43m.\u001b[39;49m\u001b[43md\u001b[49m\u001b[43m,\u001b[49m\u001b[38;5;28;43mself\u001b[39;49m\u001b[38;5;241;43m.\u001b[39;49m\u001b[43md\u001b[49m\u001b[43m)\u001b[49m\u001b[43m[\u001b[49m\u001b[38;5;28;43;01mNone\u001b[39;49;00m\u001b[43m]\u001b[49m\u001b[38;5;241;43m.\u001b[39;49m\u001b[43mrepeat\u001b[49m\u001b[43m(\u001b[49m\u001b[43mN\u001b[49m\u001b[43m,\u001b[49m\u001b[43m \u001b[49m\u001b[38;5;241;43m1\u001b[39;49m\u001b[43m,\u001b[49m\u001b[43m \u001b[49m\u001b[38;5;241;43m1\u001b[39;49m\u001b[43m)\u001b[49m\u001b[43m,\u001b[49m\u001b[43m \u001b[49m\u001b[43mtorch\u001b[49m\u001b[38;5;241;43m.\u001b[39;49m\u001b[43meye\u001b[49m\u001b[43m(\u001b[49m\u001b[38;5;28;43mself\u001b[39;49m\u001b[38;5;241;43m.\u001b[39;49m\u001b[43md\u001b[49m\u001b[43m,\u001b[49m\u001b[38;5;28;43mself\u001b[39;49m\u001b[38;5;241;43m.\u001b[39;49m\u001b[43md\u001b[49m\u001b[43m)\u001b[49m\u001b[43m[\u001b[49m\u001b[38;5;28;43;01mNone\u001b[39;49;00m\u001b[43m]\u001b[49m\u001b[38;5;241;43m.\u001b[39;49m\u001b[43mrepeat\u001b[49m\u001b[43m(\u001b[49m\u001b[43mN\u001b[49m\u001b[43m,\u001b[49m\u001b[43m \u001b[49m\u001b[38;5;241;43m1\u001b[39;49m\u001b[43m,\u001b[49m\u001b[43m \u001b[49m\u001b[38;5;241;43m1\u001b[39;49m\u001b[43m)\u001b[49m\u001b[43m)\u001b[49m\n",
      "File \u001b[0;32m~/Documents/PhD/Projects/10 - Learning Riemannian Geometry/src/article/Pulling-back-symmetric-Riemannian-geometry-for-data-analysis/src/manifolds/product_manifold.py:33\u001b[0m, in \u001b[0;36mProductManifold.inner\u001b[0;34m(self, p, X, Y)\u001b[0m\n\u001b[1;32m     31\u001b[0m \u001b[38;5;28;01mfor\u001b[39;00m i \u001b[38;5;129;01min\u001b[39;00m \u001b[38;5;28mrange\u001b[39m(\u001b[38;5;28mself\u001b[39m\u001b[38;5;241m.\u001b[39mn):\n\u001b[1;32m     32\u001b[0m     \u001b[38;5;28;01massert\u001b[39;00m (\u001b[38;5;28mlen\u001b[39m(p[i]\u001b[38;5;241m.\u001b[39mshape) \u001b[38;5;241m+\u001b[39m \u001b[38;5;241m1\u001b[39m) \u001b[38;5;241m==\u001b[39m \u001b[38;5;28mlen\u001b[39m(X[i]\u001b[38;5;241m.\u001b[39mshape) \u001b[38;5;241m==\u001b[39m \u001b[38;5;28mlen\u001b[39m(Y[i]\u001b[38;5;241m.\u001b[39mshape)\n\u001b[0;32m---> 33\u001b[0m     \u001b[38;5;28;01massert\u001b[39;00m p[i]\u001b[38;5;241m.\u001b[39mshape[\u001b[38;5;241m-\u001b[39m\u001b[38;5;241m1\u001b[39m] \u001b[38;5;241m==\u001b[39m X[i]\u001b[38;5;241m.\u001b[39mshape[\u001b[38;5;241m-\u001b[39m\u001b[38;5;241m1\u001b[39m] \u001b[38;5;241m==\u001b[39m Y[i]\u001b[38;5;241m.\u001b[39mshape[\u001b[38;5;241m-\u001b[39m\u001b[38;5;241m1\u001b[39m] \u001b[38;5;241m==\u001b[39m \u001b[38;5;28mself\u001b[39m\u001b[38;5;241m.\u001b[39mdi[i]\n\u001b[1;32m     34\u001b[0m     \u001b[38;5;28;01massert\u001b[39;00m p[i]\u001b[38;5;241m.\u001b[39mshape[:\u001b[38;5;241m-\u001b[39m\u001b[38;5;241m1\u001b[39m] \u001b[38;5;241m==\u001b[39m X[i]\u001b[38;5;241m.\u001b[39mshape[:\u001b[38;5;241m-\u001b[39m\u001b[38;5;241m2\u001b[39m] \u001b[38;5;241m==\u001b[39m Y[i]\u001b[38;5;241m.\u001b[39mshape[:\u001b[38;5;241m-\u001b[39m\u001b[38;5;241m2\u001b[39m]\n\u001b[1;32m     35\u001b[0m \u001b[38;5;28;01mif\u001b[39;00m \u001b[38;5;28mlen\u001b[39m(p[\u001b[38;5;241m0\u001b[39m]\u001b[38;5;241m.\u001b[39mshape) \u001b[38;5;241m>\u001b[39m \u001b[38;5;241m2\u001b[39m:  \u001b[38;5;66;03m# so N is a tensor\u001b[39;00m\n",
      "\u001b[0;31mAssertionError\u001b[0m: "
     ]
    }
   ],
   "source": [
    "# Train\n",
    "optimizer = torch.optim.Adam(s_M.diffeo.phi.parameters(), lr=1e-3, betas=(0.9,0.99))\n",
    "\n",
    "# main training loop\n",
    "n_epochs = 10\n",
    "num_minibatches = 20 #display the loss after these many mini-batches\n",
    "\n",
    "for epoch in range(n_epochs):\n",
    "    total_pairwise_distance_loss = 0.0\n",
    "    total_subspace_loss = 0.0\n",
    "      \n",
    "    for idx, (data_i, data_j, pairwise_distance_ij) in enumerate(dataloader):\n",
    "      \n",
    "        x_i = data_i\n",
    "        x_j = data_j\n",
    "        d_ij = pairwise_distance_ij\n",
    "        \n",
    "        phi_i = s_M.diffeo.forward(x_i)\n",
    "        phi_j = s_M.diffeo.forward(x_j)\n",
    "\n",
    "        # compute metric tensor at points\n",
    "        g_i = s_M.metric_tensor_in_std_basis(x_i)\n",
    "        g_j = s_M.metric_tensor_in_std_basis(x_j)\n",
    "        \n",
    "        # optimize the net\n",
    "        d_M_ij = M.distance(x_i[:,None,:], x_j[:,None,:]).squeeze()\n",
    "        pairwise_distance_loss = torch.mean((d_M_ij - d_ij)**2) # (\\|phi_i - phi_j\\| - d_ij)^2\n",
    "        \n",
    "        # supervised loss\n",
    "        subspace_loss_i = torch.mean(phi_i[1].norm(1,-1))\n",
    "        subspace_loss_j = torch.mean(phi_j[1].norm(1,-1))\n",
    "        subspace_loss = 10 * (subspace_loss_i + subspace_loss_j)/2\n",
    "    \n",
    "        # isomrtry loss\n",
    "        isometry_loss_i = torch.mean(torch.sum((g_i - torch.eye(2)[None])**2, (1,2)))\n",
    "        isometry_loss_j = torch.mean(torch.sum((g_j - torch.eye(2)[None])**2, (1,2)))\n",
    "        isometry_loss = 1/100 * (isometry_loss_i + isometry_loss_j)/2\n",
    "        \n",
    "        loss = pairwise_distance_loss + subspace_loss + isometry_loss\n",
    "        \n",
    "        # update networks\n",
    "        optimizer.zero_grad()\n",
    "        loss.backward()\n",
    "        optimizer.step()\n",
    "\n",
    "        total_pairwise_distance_loss += pairwise_distance_loss.item()\n",
    "        total_subspace_loss += subspace_loss.item()\n",
    "\n",
    "        if(idx % num_minibatches == num_minibatches-1):\n",
    "            avg_pairwise_distance_loss = total_pairwise_distance_loss/num_minibatches\n",
    "            avg_subspace_loss = total_subspace_loss/num_minibatches\n",
    "            \n",
    "            print(\"epoch[{}/{}] mini-batch[{}/{}] avg_pwd_loss {:.6f} avg_subspace_loss {:.6f}\"\\\n",
    "                  .format(epoch+1, n_epochs, idx+1, len(dataloader), avg_pairwise_distance_loss, avg_subspace_loss))\n",
    "            total_pairwise_distance_loss = 0.0\n",
    "            total_subspace_loss = 0.0"
   ]
  },
  {
   "cell_type": "code",
   "execution_count": null,
   "metadata": {},
   "outputs": [],
   "source": []
  }
 ],
 "metadata": {
  "kernelspec": {
   "display_name": "Python 3 (ipykernel)",
   "language": "python",
   "name": "python3"
  },
  "language_info": {
   "codemirror_mode": {
    "name": "ipython",
    "version": 3
   },
   "file_extension": ".py",
   "mimetype": "text/x-python",
   "name": "python",
   "nbconvert_exporter": "python",
   "pygments_lexer": "ipython3",
   "version": "3.8.18"
  }
 },
 "nbformat": 4,
 "nbformat_minor": 4
}
